{
 "cells": [
  {
   "cell_type": "markdown",
   "metadata": {},
   "source": [
    "# **SWiCS x WiE Python Workshop 2**\n",
    "---\n",
    "###### Written by Olivia 2023"
   ]
  },
  {
   "cell_type": "markdown",
   "metadata": {},
   "source": [
    "## **Before you start...**\n",
    "\n",
    "If you have never worked with python, we recommend you go through the previous workshop\n",
    "\n",
    "All recordings are available at [this link](https://drive.google.com/drive/folders/1bmIe38jksFXj5-QlIDS3_16pOZw9e9ka?usp=sharing)."
   ]
  },
  {
   "cell_type": "markdown",
   "metadata": {},
   "source": [
    "## **Section one: List Comprehension**\n",
    "\n",
    "We're going to start with the basics of l. Printing is a common way of producing an output to a console in programming. Using the keyword **print** you can write things to your console (the output). Everything that you want to write must be put in brackets and if it is some words you want to write, they must be put in speech marks (we'll cover why this is in a later section!) .\n",
    "\n",
    "Have a go at writing your own print statement below the example."
   ]
  },
  {
   "cell_type": "code",
   "execution_count": null,
   "metadata": {},
   "outputs": [],
   "source": [
    "#A regular for loop to fill a list\n",
    "my_list = []\n",
    "for i in range(10):\n",
    "    my_list.append(i*5)\n",
    "print(my_list)\n",
    "    \n",
    "\n",
    "#With list comprehensions you can reduce this to one line\n",
    "\n",
    "my_list = [i*5 for i in range(10)]\n",
    "print(my_list)\n",
    "\n",
    "# You can even add simple if else statements!\n",
    "\n",
    "my_list = [i*5 if i % 2 == 0 else i * 7 for i in range(10)]\n",
    "print(my_list)\n"
   ]
  },
  {
   "cell_type": "code",
   "execution_count": null,
   "metadata": {},
   "outputs": [],
   "source": [
    "#Exercise 1.1 create a list using list comprehension that stores the values from 0 to 20\n",
    "\n",
    "my_list = [i for i in range(20)]"
   ]
  },
  {
   "cell_type": "code",
   "execution_count": null,
   "metadata": {},
   "outputs": [],
   "source": [
    "#Exercise 1.2 modify this code to make it a list comprehension\n",
    "\n",
    "#write your list comprehension here\n",
    "my_list = []\n",
    "for i in range(1, 10, 2):\n",
    "    my_list.append(i)\n",
    "\n",
    "# output\n",
    "my_list"
   ]
  },
  {
   "cell_type": "code",
   "execution_count": null,
   "metadata": {},
   "outputs": [],
   "source": [
    "#Exercise 1.3 - create a list comprehension that contains the square of numbers from 1 to 7\n",
    "my_list = [i*i for i in range(5)]\n",
    "my_list"
   ]
  },
  {
   "cell_type": "code",
   "execution_count": null,
   "metadata": {},
   "outputs": [],
   "source": [
    "#Exercise 1.4 - create a list comprehension that contains the square of numbers from 1 to 7 \n",
    "# starting from the largest to smallest number\n",
    "\n",
    "# write you list comprehension here\n",
    "my_list = [i*i for i in range(7,0,-1)]\n",
    "\n",
    "# output\n",
    "my_list"
   ]
  },
  {
   "cell_type": "code",
   "execution_count": null,
   "metadata": {},
   "outputs": [],
   "source": [
    "#Exercise 1.5 Bonus question! - create a list comprehension that contains the square of the iterator\n",
    "# if the iterator is smaller than 4 else it would contain the cube of the iterator\n",
    "# for values from 1 to 7\n",
    "\n",
    "#write you list comprehension here\n",
    "my_list = [i ** 2 if i < 4 else i ** 3 for i in range(7)]\n",
    "\n",
    "#output\n",
    "my_list"
   ]
  },
  {
   "cell_type": "markdown",
   "metadata": {},
   "source": [
    "You don't necessarily have to store the created list in a function."
   ]
  },
  {
   "cell_type": "code",
   "execution_count": null,
   "metadata": {
    "scrolled": true
   },
   "outputs": [],
   "source": [
    "# example of using a list comprehension to use it to print a sentence five times\n",
    "[print(\"SwiCS is best society\") for i in range (5)]"
   ]
  },
  {
   "cell_type": "markdown",
   "metadata": {},
   "source": [
    "## **Section 2: Functions**\n",
    "\n",
    "functions allow you to reuse code you've written. You put the code you wish to reuse in a function declaration, then by calling that function's name, the code you've stored in the function will run.\n",
    "\n",
    "Functions in python are written\n",
    "\n",
    "```\n",
    "def <name of the function>([optional parameters]):\n",
    "    <content of the function>\n",
    "    return [Optional return statement]```\n"
   ]
  },
  {
   "cell_type": "code",
   "execution_count": null,
   "metadata": {},
   "outputs": [],
   "source": [
    "#Declaring the function!\n",
    "def announce_best_society():\n",
    "   print(\"SwiCS is best society\")\n",
    "\n",
    "#calling the function.\n",
    "announce_best_society()\n",
    "\n",
    "# Exercise 2.1 Try creating a function that repeats a statment 9 times!\n",
    "def repeat_nine_times():\n",
    "    #answer here\n",
    "   [print(\"SwiCS is best society\") for i in range(9)]\n"
   ]
  },
  {
   "cell_type": "code",
   "execution_count": null,
   "metadata": {},
   "outputs": [],
   "source": [
    "#Exercise 2.2 Modify your function so that it takes an input that will be\n",
    "# used to determine how many times it should repeat the statement\n",
    "\n",
    "#answer\n",
    "def repeat(times):\n",
    "    [print(\"Coding is awesome\") for i in range(times)]\n",
    "\n",
    "# Then call the function with 7 as its argument\n",
    "\n",
    "#answer\n",
    "repeat(7)"
   ]
  },
  {
   "cell_type": "code",
   "execution_count": null,
   "metadata": {},
   "outputs": [],
   "source": [
    "#Exercise 2.3 modify your function so that it takes another input for the text to be printed\n",
    "\n",
    "#answer\n",
    "def repeat(phrase, times):\n",
    "    [print(phrase) for i in range(times)]\n",
    "\n",
    "# Call the function with the phrase you want it to say for 5 times\n",
    "\n",
    "#answer\n",
    "repeat(\"We're ready to take on harder challenges!\", 5)"
   ]
  },
  {
   "cell_type": "code",
   "execution_count": null,
   "metadata": {},
   "outputs": [],
   "source": [
    "# Exercise 2.4 create a function that takes three values, m, x, and c.\n",
    "# this function will return m*x + c, name the function deduce_y(m, x, c)\n",
    "\n",
    "# answer\n",
    "def deduce_y(m, x, c):\n",
    "    return m * x + c\n",
    "\n",
    "#run the function with the values 3, 1.5, 2\n",
    "deduce_y(3, 1.5, 2)"
   ]
  },
  {
   "cell_type": "markdown",
   "metadata": {},
   "source": [
    "You can combine your variables and sentences to output different things. As you change your variable, the output will change! See the example below"
   ]
  },
  {
   "cell_type": "code",
   "execution_count": null,
   "metadata": {},
   "outputs": [],
   "source": [
    "#Example 1- Combining sentences and variables\n",
    "\n",
    "greeting=\"Hello!\"\n",
    "amount=12\n",
    "print(greeting,\"The amount is\",amount)\n",
    "\n",
    "#Try changing the variables and watch as the sentence you output changes!"
   ]
  },
  {
   "cell_type": "code",
   "execution_count": null,
   "metadata": {},
   "outputs": [],
   "source": [
    "#CHALLENGE: Try to create a variable for your name and output \"Hello my name is [your name]\". Put your code in here"
   ]
  },
  {
   "cell_type": "markdown",
   "metadata": {},
   "source": [
    "## **Section 3: Built in functions WIP**\n",
    "\n",
    "Python has some built in fuctions that are useful\n",
    "\n",
    "* Sorted\n",
    "* Zip\n",
    "* Sum\n",
    "* Len\n",
    "* Abs\n",
    "* Min\n",
    "* Max\n",
    "* Map\n",
    "* Filter\n",
    "\n",
    "In this section, we'll get you to use each one. If you're interested in learning more about the build in functions, you can check out [link here!](https://docs.python.org/3/library/functions.html) "
   ]
  },
  {
   "cell_type": "markdown",
   "metadata": {},
   "source": [
    "### Built-In Fuctions: sorted()\n",
    "\n",
    "sorts an iterable like a list like so: `sorted(unsorted_list)`"
   ]
  },
  {
   "cell_type": "code",
   "execution_count": null,
   "metadata": {},
   "outputs": [],
   "source": [
    "#Exercise 3.1 Use sorted on this list. \n",
    "fibo = [144, 1, 13, 55, 2, 21, 8, 89, 34, 233, 1, 3, 5]\n",
    "\n",
    "#answer\n",
    "sorted(fibo)"
   ]
  },
  {
   "cell_type": "markdown",
   "metadata": {},
   "source": [
    "### Built-In Fuctions: zip()\n",
    "\n",
    "Zip allows you to create a list of tuples from the elements of two or more iterables (like lists)"
   ]
  },
  {
   "cell_type": "code",
   "execution_count": null,
   "metadata": {},
   "outputs": [],
   "source": [
    "#Example code\n",
    "\n",
    "x = [1, 2, 3]\n",
    "y = [4, 5, 6]\n",
    "print(list(zip(x, y)))\n",
    "\n",
    "headers = [\"Name\", \"Age\", \"Class\", \"Level\"]\n",
    "person_1 = [\"Janet\", \"100\", \"Warrior\", 23]\n",
    "person_2 = [\"Melly\", \"65\", \"Mage\", 25]\n",
    "\n",
    "#Exercise 3.2  zip can take as many iterables as you want it to If they are of uneven length then\n",
    "# it will stop when the shortest iterable runs out of elements. Try it!\n",
    "\n",
    "#answer\n",
    "print(list(zip(headers, person_1, person_2)))"
   ]
  },
  {
   "cell_type": "markdown",
   "metadata": {},
   "source": [
    "### Built-In Fuctions: sum(), len(), min() and max()\n",
    "Sum returns all values in an iterable (like a list)  \n",
    "Len returns the number of elements there are in an iterable (like a list)  \n",
    "min and max returns the smallest and largest number in an iterable"
   ]
  },
  {
   "cell_type": "code",
   "execution_count": null,
   "metadata": {},
   "outputs": [],
   "source": [
    "fibo = [144, 1, 13, 55, 2, 21, 8, 89, 34, 233, 1, 3, 5]\n",
    "\n",
    "# Exercise 3.4 use sum, len, min and max on fibo separately\n",
    "\n",
    "#answer\n",
    "print(sum(fibo))\n",
    "print(len(fibo))\n",
    "print(min(fibo))\n",
    "print(max(fibo))"
   ]
  },
  {
   "cell_type": "markdown",
   "metadata": {},
   "source": [
    "### Built-In Fuctions: abs()\n",
    "returns the absolute value of a number"
   ]
  },
  {
   "cell_type": "code",
   "execution_count": null,
   "metadata": {
    "scrolled": true
   },
   "outputs": [],
   "source": [
    "# Exercise 3.4 Use abs on each number in this list\n",
    "a = [-5, -3.2, -5.6e10]\n",
    "\n",
    "[print(abs(i)) for i in a]"
   ]
  },
  {
   "cell_type": "markdown",
   "metadata": {},
   "source": [
    "### Built-In Fuctions: map()\n",
    "Applies a function to every element of an iterable.\n",
    "Written as `map(<the function's name>, <the iterable>)`"
   ]
  },
  {
   "cell_type": "code",
   "execution_count": null,
   "metadata": {
    "scrolled": true
   },
   "outputs": [],
   "source": [
    "#example\n",
    "print(list(map(sum, [[1,2,3],[0,5,-2],[3,4,-5]])))\n",
    "list_to_map = [[155, 169], [135, 4, 38], [42, 97, 137, 142, 179], [84, 150, 30, 180], [39, 50]]\n",
    "# Exercise 3.5 use max with map to get the largest number in each element of list_to_map.\n",
    "# to make the values visible, put the map function in a list() constructor\n",
    "\n",
    "#answer\n",
    "print(list(map(max, list_to_map)))\n",
    "\n",
    "# Exercise 3.6 try it with len\n",
    "\n",
    "#answer\n",
    "print(list(map(len, list_to_map)))"
   ]
  },
  {
   "cell_type": "markdown",
   "metadata": {},
   "source": [
    "### Built-In Fuctions: filter()\n",
    "Applies a filters every element of an iterable based on a given function that returns either true or false based on input.  \n",
    "Written as `filter(<the function's name>, <the iterable>)`"
   ]
  },
  {
   "cell_type": "code",
   "execution_count": null,
   "metadata": {
    "scrolled": true
   },
   "outputs": [],
   "source": [
    "def is_even(number):\n",
    "    return number % 2 == 0\n",
    "\n",
    "def is_odd(number):\n",
    "    return not is_even(number)\n",
    "\n",
    "fibo = [144, 1, 13, 55, 2, 21, 8, 89, 34, 233, 1, 3, 5]\n",
    "# Exercise 3.7 use our is_even() function with filter on the fibo list\n",
    "\n",
    "#answer\n",
    "print(list(filter(is_even, fibo)))\n",
    "\n",
    "# Exercise 3.8 use our is_odd() function with filter on the fibo list\n",
    "\n",
    "#answer\n",
    "print(list(filter(is_odd, fibo)))\n"
   ]
  },
  {
   "cell_type": "markdown",
   "metadata": {},
   "source": [
    "## **Section 4: Dictionaries Compehension**\n",
    "\n",
    "You've been exposed to list comprehensions, in this section we'll cover dictionary comprehensions"
   ]
  },
  {
   "cell_type": "code",
   "execution_count": null,
   "metadata": {},
   "outputs": [],
   "source": [
    "# as you've been introduced, there are several ways to create a dictionary.\n",
    "# one of which is which literal keys and values\n",
    "\n",
    "example_dictionary = {\n",
    "                      \"Monday\": \"Python Workshop\",\n",
    "                      \"Tuesday\": \"drinks with friends\",\n",
    "                      \"Wednesday\": \"Society night\",\n",
    "                      \"Thursday\": \"Group meetings\",\n",
    "                      \"Friday\": \"TGIF\"\n",
    "                     }\n",
    "\n",
    "# we'll be using this constructor to create dictionaries from lists of keys and values.\n",
    "\n",
    "keys = [\"jan\", \"feb\", \"march\", \"april\", \"may\", \"jun\", \"july\", \"sep\", \"oct\", \"nov\", \"dec\"]\n",
    "values = [\"exams\", \"semester 2\", \"semester 2\", \"easter\"]\n"
   ]
  },
  {
   "cell_type": "code",
   "execution_count": null,
   "metadata": {},
   "outputs": [],
   "source": []
  }
 ],
 "metadata": {
  "celltoolbar": "Tags",
  "interpreter": {
   "hash": "97464c9af034698eb0cbaa466d70412023e0ec93617a07d4eb7c3e7c326a0d08"
  },
  "kernelspec": {
   "display_name": "Python 3 (ipykernel)",
   "language": "python",
   "name": "python3"
  },
  "language_info": {
   "codemirror_mode": {
    "name": "ipython",
    "version": 3
   },
   "file_extension": ".py",
   "mimetype": "text/x-python",
   "name": "python",
   "nbconvert_exporter": "python",
   "pygments_lexer": "ipython3",
   "version": "3.9.12"
  }
 },
 "nbformat": 4,
 "nbformat_minor": 2
}
