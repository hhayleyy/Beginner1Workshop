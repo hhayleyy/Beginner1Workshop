{
 "cells": [
  {
   "cell_type": "markdown",
   "metadata": {},
   "source": [
    "# **SWiCS x WiE Python Workshop 2**\n",
    "---\n",
    "###### Written by Olivia 2023"
   ]
  },
  {
   "cell_type": "markdown",
   "metadata": {},
   "source": [
    "## **Before you start...**\n",
    "\n",
    "If you have never worked with python, we recommend you go through the previous workshop\n",
    "\n",
    "All recordings are available at [this link](https://drive.google.com/drive/folders/1bmIe38jksFXj5-QlIDS3_16pOZw9e9ka?usp=sharing)."
   ]
  },
  {
   "cell_type": "markdown",
   "metadata": {},
   "source": [
    "## **Section one: List Comprehension**\n",
    "\n",
    "List comprehensions are a unique way of looping to fill a list in one line. They should be used with care as they can get quite complicated and difficult to understand when one embeds a list comprehension in another. But in simple cases,\n",
    "they are very concise!"
   ]
  },
  {
   "cell_type": "code",
   "execution_count": null,
   "metadata": {},
   "outputs": [],
   "source": [
    "# a regular for loop to fill a list\n",
    "my_list = []\n",
    "for i in range(10):\n",
    "    my_list.append(i*5)\n",
    "print(my_list)\n",
    "\n",
    "# with list comprehensions you can reduce this to one line\n",
    "\n",
    "my_list = [i*5 for i in range(10)]\n",
    "print(my_list)\n",
    "\n",
    "# You can even add simple if else statements!\n",
    "\n",
    "my_list = [i*5 if i % 2 == 0 else i * 7 for i in range(10)]\n",
    "print(my_list)\n"
   ]
  },
  {
   "cell_type": "markdown",
   "metadata": {},
   "source": [
    "### Exercise 1.1 Create a list using list comprehension that stores the values from 0 to 20"
   ]
  },
  {
   "cell_type": "code",
   "execution_count": null,
   "metadata": {},
   "outputs": [],
   "source": [
    "# write your answer answer here\n",
    "my_list = [i for i in range(20)]"
   ]
  },
  {
   "cell_type": "markdown",
   "metadata": {},
   "source": [
    "### Exercise 1.2 Modify this code to make it a list comprehension"
   ]
  },
  {
   "cell_type": "code",
   "execution_count": null,
   "metadata": {},
   "outputs": [],
   "source": [
    "# write your answer here\n",
    "my_list = []\n",
    "for i in range(1, 10, 2):\n",
    "    my_list.append(i)\n",
    "    \n",
    "# answer\n",
    "my_list = [i for i in range(1,10,2)]\n",
    "\n",
    "# output\n",
    "my_list"
   ]
  },
  {
   "cell_type": "markdown",
   "metadata": {},
   "source": [
    "### Exercise 1.3 Create a list comprehension that contains the square of numbers from 1 to 7"
   ]
  },
  {
   "cell_type": "code",
   "execution_count": null,
   "metadata": {},
   "outputs": [],
   "source": [
    "# write your answer here\n",
    "my_list = [i*i for i in range(5)]\n",
    "\n",
    "# output\n",
    "my_list"
   ]
  },
  {
   "cell_type": "markdown",
   "metadata": {},
   "source": [
    "### Exercise 1.4 Create a list comprehension that contains the square of numbers from 1 to 7 starting from the largest to smallest number"
   ]
  },
  {
   "cell_type": "code",
   "execution_count": null,
   "metadata": {},
   "outputs": [],
   "source": [
    "# write you answer here\n",
    "my_list = [i*i for i in range(7,0,-1)]\n",
    "\n",
    "# output\n",
    "my_list"
   ]
  },
  {
   "cell_type": "markdown",
   "metadata": {},
   "source": [
    "### Exercise 1.5 Bonus question! Create a list comprehension that contains the square of the iterator if the iterator is smaller than 4 else it would contain the cube of the iterator for values from 1 to 7"
   ]
  },
  {
   "cell_type": "code",
   "execution_count": null,
   "metadata": {},
   "outputs": [],
   "source": [
    "# write you answer here\n",
    "my_list = [i ** 2 if i < 4 else i ** 3 for i in range(7)]\n",
    "\n",
    "#output\n",
    "my_list"
   ]
  },
  {
   "cell_type": "markdown",
   "metadata": {},
   "source": [
    "You don't necessarily have to store the created list in a function."
   ]
  },
  {
   "cell_type": "code",
   "execution_count": null,
   "metadata": {
    "scrolled": true
   },
   "outputs": [],
   "source": [
    "# example of using a list comprehension to use it to print a sentence five times\n",
    "[print(\"SwiCS is best society\") for i in range (5)]"
   ]
  },
  {
   "cell_type": "markdown",
   "metadata": {},
   "source": [
    "## **Section 2: Functions**\n",
    "\n",
    "Functions allow you to reuse code you've written. You place the code you wish to reuse in a function declaration, then by calling that function's name, the code you've stored in the function will run.\n",
    "\n",
    "Functions in python follow this syntax:\n",
    "\n",
    "```\n",
    "def <name of the function>([optional parameters]):\n",
    "    <content of the function>\n",
    "    return [Optional return statement]```\n"
   ]
  },
  {
   "cell_type": "code",
   "execution_count": null,
   "metadata": {},
   "outputs": [],
   "source": [
    "#Declaring the function!\n",
    "def announce_best_society():\n",
    "   print(\"SwiCS is best society\")\n",
    "\n",
    "#calling the function.\n",
    "announce_best_society()"
   ]
  },
  {
   "cell_type": "markdown",
   "metadata": {},
   "source": [
    "### Exercise 2.1 Try creating a function that repeats a statment 9 times!"
   ]
  },
  {
   "cell_type": "code",
   "execution_count": null,
   "metadata": {},
   "outputs": [],
   "source": [
    "def repeat_nine_times():\n",
    "    # write you answer here\n",
    "   [print(\"SwiCS isc best society\") for i in range(9)]"
   ]
  },
  {
   "cell_type": "markdown",
   "metadata": {},
   "source": [
    "### Exercise 2.2 Modify your function so that it takes an input that will be used to determine how many times it should repeat the statement"
   ]
  },
  {
   "cell_type": "code",
   "execution_count": null,
   "metadata": {},
   "outputs": [],
   "source": [
    "# write you answer here\n",
    "def repeat(times):\n",
    "    [print(\"Coding is awesome\") for i in range(times)]\n",
    "\n",
    "#output - call your function 7 times\n"
   ]
  },
  {
   "cell_type": "markdown",
   "metadata": {},
   "source": [
    "### Exercise 2.3 Modify your function so that it takes another input for the text to be printed"
   ]
  },
  {
   "cell_type": "code",
   "execution_count": null,
   "metadata": {},
   "outputs": [],
   "source": [
    "# write you answer here\n",
    "def repeat(phrase, times):\n",
    "    [print(phrase) for i in range(times)]\n",
    "\n",
    "# output - call your function 5 times\n",
    "repeat(\"We're ready to take on harder challenges!\", 5)"
   ]
  },
  {
   "cell_type": "markdown",
   "metadata": {},
   "source": [
    "### Exercise 2.4 Create a function that takes three values, m, x, and c\n",
    "this function will return m*x + c, name the function deduce_y(m, x, c)"
   ]
  },
  {
   "cell_type": "code",
   "execution_count": null,
   "metadata": {},
   "outputs": [],
   "source": [
    "# write you answer here\n",
    "def repeat(phrase, times):\n",
    "def deduce_y(m, x, c):\n",
    "    return m * x + c\n",
    "\n",
    "# output - call your function with variables 3, 1.5, 2\n",
    "deduce_y(3, 1.5, 2)"
   ]
  },
  {
   "cell_type": "markdown",
   "metadata": {},
   "source": [
    "## **Section 3: Built in functions**\n",
    "\n",
    "Python has some built in fuctions that are useful. Here is a list that we think you should know\n",
    "\n",
    "* `sorted()`\n",
    "* `zip()`\n",
    "* `sum()`\n",
    "* `len()`\n",
    "* `abs()`\n",
    "* `min()`\n",
    "* `max()`\n",
    "* `map()`\n",
    "* `filter()`\n",
    "\n",
    "In this section, we will have you to use each one. If you're interested in learning more about the build in functions, consult the [reference, here!](https://docs.python.org/3/library/functions.html) "
   ]
  },
  {
   "cell_type": "markdown",
   "metadata": {},
   "source": [
    "### Built-In Fuctions: sorted()\n",
    "\n",
    "`sorted()` sorts an iterable like a list like so: `sorted(unsorted_list)`\n",
    "\n",
    "#### Exercise 3.1 Use sorted on this list. "
   ]
  },
  {
   "cell_type": "code",
   "execution_count": null,
   "metadata": {},
   "outputs": [],
   "source": [
    "fibo = [144, 1, 13, 55, 2, 21, 8, 89, 34, 233, 1, 3, 5]\n",
    "\n",
    "# write you answer here\n",
    "sorted(fibo)"
   ]
  },
  {
   "cell_type": "markdown",
   "metadata": {},
   "source": [
    "### Built-In Fuctions: zip()\n",
    "\n",
    "`zip()` allows you to create a list of tuples from the elements of two or more iterables (like lists)  \n",
    "`zip()` can take as many iterables as you want it to If they are of uneven length then\n",
    "it will stop when the shortest iterable runs out of elements. Try it!\n",
    "\n",
    "#### Exercise 3.2  Zip the following three lists"
   ]
  },
  {
   "cell_type": "code",
   "execution_count": null,
   "metadata": {},
   "outputs": [],
   "source": [
    "#Example code\n",
    "\n",
    "x = [1, 2, 3]\n",
    "y = [4, 5, 6]\n",
    "print(list(zip(x, y)))\n",
    "\n",
    "headers = [\"Name\", \"Age\", \"Class\", \"Level\"]\n",
    "person_1 = [\"Janet\", \"100\", \"Warrior\", 23]\n",
    "person_2 = [\"Melly\", \"65\", \"Mage\", 25]\n",
    "\n",
    "# write you answer here\n",
    "print(list(zip(headers, person_1, person_2)))"
   ]
  },
  {
   "cell_type": "markdown",
   "metadata": {},
   "source": [
    "### Built-In Fuctions: sum(), len(), min() and max()\n",
    "`sum()` returns all values in an iterable (like a list)  \n",
    "`len()` returns the number of elements there are in an iterable (like a list)  \n",
    "`min()` and max returns the smallest and largest number in an iterable\n",
    "\n",
    "#### Exercise 3.3 use sum, len, min and max on fibo separately"
   ]
  },
  {
   "cell_type": "code",
   "execution_count": null,
   "metadata": {},
   "outputs": [],
   "source": [
    "fibo = [144, 1, 13, 55, 2, 21, 8, 89, 34, 233, 1, 3, 5]\n",
    "\n",
    "# Exercise 3.4 use sum, len, min and max on fibo separately\n",
    "\n",
    "# write you answer here\n",
    "print(sum(fibo))\n",
    "print(len(fibo))\n",
    "print(min(fibo))\n",
    "print(max(fibo))"
   ]
  },
  {
   "cell_type": "markdown",
   "metadata": {},
   "source": [
    "### Built-In Fuctions: abs()\n",
    "Returns the absolute value of a number\n",
    "#### Exercise 3.4 Use abs on each number in this list"
   ]
  },
  {
   "cell_type": "code",
   "execution_count": null,
   "metadata": {
    "scrolled": true
   },
   "outputs": [],
   "source": [
    "\n",
    "a = [-5, -3.2, -5.6e10]\n",
    "\n",
    "[print(abs(i)) for i in a]"
   ]
  },
  {
   "cell_type": "markdown",
   "metadata": {},
   "source": [
    "### Built-In Fuctions: `map()`\n",
    "Applies a function to every element of an iterable.\n",
    "Syntax is `map(<the function's name>, <the iterable>)`"
   ]
  },
  {
   "cell_type": "code",
   "execution_count": null,
   "metadata": {
    "scrolled": true
   },
   "outputs": [],
   "source": [
    "# example\n",
    "print(list(map(sum, [[1,2,3],[0,5,-2],[3,4,-5]])))"
   ]
  },
  {
   "cell_type": "markdown",
   "metadata": {},
   "source": [
    "#### Exercise 3.5 Use `max()` with `map()` to get the largest number in each element of `list_to_map`\n",
    "To make the values visible, put the map function in a `list()` constructor otherwise it will return a map object"
   ]
  },
  {
   "cell_type": "code",
   "execution_count": null,
   "metadata": {
    "scrolled": true
   },
   "outputs": [],
   "source": [
    "list_to_map = [[155, 169], [135, 4, 38], [42, 97, 137, 142, 179], [84, 150, 30, 180], [39, 50]]\n",
    "# write you answer here\n",
    "print(list(map(max, list_to_map)))"
   ]
  },
  {
   "cell_type": "markdown",
   "metadata": {},
   "source": [
    "#### Exercise 3.6 Do the same as the previous exercise with `len()`"
   ]
  },
  {
   "cell_type": "code",
   "execution_count": null,
   "metadata": {
    "scrolled": true
   },
   "outputs": [],
   "source": [
    "# write you answer here\n",
    "print(list(map(len, list_to_map)))"
   ]
  },
  {
   "cell_type": "markdown",
   "metadata": {},
   "source": [
    "### Built-In Fuctions: filter()\n",
    "Applies a filters every element of an iterable based on a given function that returns either true or false based on input.  \n",
    "Written as `filter(<the function's name>, <the iterable>)`\n",
    "#### Exercise 3.7 use `is_even()` in combination with `filter()` on the `fibo` list to create a list of even numbers in `fibo`"
   ]
  },
  {
   "cell_type": "code",
   "execution_count": null,
   "metadata": {
    "scrolled": true
   },
   "outputs": [],
   "source": [
    "def is_even(number):\n",
    "    return number % 2 == 0\n",
    "\n",
    "def is_odd(number):\n",
    "    return not is_even(number)\n",
    "\n",
    "fibo = [144, 1, 13, 55, 2, 21, 8, 89, 34, 233, 1, 3, 5]\n",
    "\n",
    "# write you answer here\n",
    "print(list(filter(is_even, fibo)))"
   ]
  },
  {
   "cell_type": "markdown",
   "metadata": {},
   "source": [
    "#### Exercise 3.8 Use `is_odd()` with `filter()` on the `fibo` list to create a list of odd numbers in `fibo`"
   ]
  },
  {
   "cell_type": "code",
   "execution_count": null,
   "metadata": {
    "scrolled": true
   },
   "outputs": [],
   "source": [
    "# write you answer here\n",
    "print(list(filter(is_odd, fibo)))"
   ]
  },
  {
   "cell_type": "markdown",
   "metadata": {},
   "source": [
    "#### Exercise 3.9 Bonus Question! Create a function that checks if a given input is even and above 20 and use it with `filter()` on `fibo`"
   ]
  },
  {
   "cell_type": "code",
   "execution_count": null,
   "metadata": {
    "scrolled": true
   },
   "outputs": [],
   "source": [
    "# write you answer here\n",
    "def even_and_above_20(number):\n",
    "    return number % 2 == 0 and number > 20\n",
    "\n",
    "print(list(filter(even_and_above_20, fibo)))"
   ]
  },
  {
   "cell_type": "markdown",
   "metadata": {},
   "source": [
    "## **Section 4: Dictionaries Compehension**\n",
    "\n",
    "You've been exposed to list comprehensions, in this section we'll cover dictionary comprehensions"
   ]
  },
  {
   "cell_type": "code",
   "execution_count": null,
   "metadata": {},
   "outputs": [],
   "source": [
    "# as you've been introduced, there are several ways to create a dictionary.\n",
    "# one of which is which literal keys and values\n",
    "\n",
    "example_dictionary = {\n",
    "                      \"Monday\": \"Python Workshop\",\n",
    "                      \"Tuesday\": \"drinks with friends\",\n",
    "                      \"Wednesday\": \"Society night\",\n",
    "                      \"Thursday\": \"Group meetings\",\n",
    "                      \"Friday\": \"TGIF\"\n",
    "                     }\n",
    "\n",
    "# we'll be using this constructor to create dictionaries from lists of keys and values.\n",
    "\n",
    "keys = [\"jan\", \"feb\", \"march\", \"april\", \"may\", \"jun\", \"july\", \"sep\", \"oct\", \"nov\", \"dec\"]\n",
    "values = [\"exams\", \"semester 2\", \"semester 2\", \"easter\"]\n"
   ]
  },
  {
   "cell_type": "code",
   "execution_count": null,
   "metadata": {},
   "outputs": [],
   "source": []
  }
 ],
 "metadata": {
  "celltoolbar": "Tags",
  "interpreter": {
   "hash": "97464c9af034698eb0cbaa466d70412023e0ec93617a07d4eb7c3e7c326a0d08"
  },
  "kernelspec": {
   "display_name": "Python 3 (ipykernel)",
   "language": "python",
   "name": "python3"
  },
  "language_info": {
   "codemirror_mode": {
    "name": "ipython",
    "version": 3
   },
   "file_extension": ".py",
   "mimetype": "text/x-python",
   "name": "python",
   "nbconvert_exporter": "python",
   "pygments_lexer": "ipython3",
   "version": "3.9.12"
  }
 },
 "nbformat": 4,
 "nbformat_minor": 2
}
