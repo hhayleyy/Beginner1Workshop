{
 "cells": [
  {
   "cell_type": "markdown",
   "metadata": {},
   "source": [
    "# **SWiCS x WiE Python Workshop 2**\n",
    "---\n",
    "###### Written by Olivia 2023"
   ]
  },
  {
   "cell_type": "markdown",
   "metadata": {},
   "source": [
    "## **Before you start...**\n",
    "\n",
    "If you have never worked with python, we recommend you go through the previous workshop\n",
    "\n",
    "All recordings are available at [this link](https://drive.google.com/drive/folders/1bmIe38jksFXj5-QlIDS3_16pOZw9e9ka?usp=sharing)."
   ]
  },
  {
   "cell_type": "markdown",
   "metadata": {},
   "source": [
    "## **Introduction to list comprehension**\n",
    "\n",
    "Notebooks are an easy way to run small snippets of code in a learning environment. Anything you learn here, you can put into your own coding projects!\n",
    "\n",
    "Below is an example of some code. You may not understand it yet, but it demonstrates how to run code in these notebooks"
   ]
  },
  {
   "cell_type": "code",
   "execution_count": null,
   "metadata": {
    "scrolled": true
   },
   "outputs": [],
   "source": [
    "#Example comment! Comments can be used to add notes to your code to explain what things do what. I will be using comments to explain sections of code to you\n",
    "\n",
    "#This is some example code. CLick the little play button to run this code. Ask a demonstrator if you're unsure!\n",
    "for i in range(5):\n",
    "    print(\"This code is outputting to the console\")\n",
    "\n",
    "# If you've managed to run this code, you should see the sentence \"This code is outputting to the console\" outputted 5 times below!\n"
   ]
  },
  {
   "cell_type": "markdown",
   "metadata": {},
   "source": [
    "All notebooks provided in these sessions will have explanations followed by examples and questions to test your understanding. Feel free to try out as many questions as you like and even put some of the code you learn into your own python files!\n",
    "\n",
    "Lists\n",
    "* List comprehension\n",
    "* Functions\n",
    "* Built in functions"
   ]
  },
  {
   "cell_type": "markdown",
   "metadata": {},
   "source": [
    "## **Section one: List Comprehension**\n",
    "\n",
    "We're going to start with the basics of l. Printing is a common way of producing an output to a console in programming. Using the keyword **print** you can write things to your console (the output). Everything that you want to write must be put in brackets and if it is some words you want to write, they must be put in speech marks (we'll cover why this is in a later section!) .\n",
    "\n",
    "Have a go at writing your own print statement below the example."
   ]
  },
  {
   "cell_type": "code",
   "execution_count": null,
   "metadata": {},
   "outputs": [],
   "source": [
    "#A regular for loop to fill a list\n",
    "my_list = []\n",
    "for i in range(10):\n",
    "    my_list.append(i*5)\n",
    "print(my_list)\n",
    "    \n",
    "\n",
    "#With list comprehensions you can reduce this to one line\n",
    "\n",
    "my_list = [i*5 for i in range(10)]\n",
    "print(my_list)\n",
    "\n",
    "# You can even add simple if else statements!\n",
    "\n",
    "my_list = [i*5 if i % 2 == 0 else i * 7 for i in range(10)]\n",
    "print(my_list)\n"
   ]
  },
  {
   "cell_type": "code",
   "execution_count": null,
   "metadata": {},
   "outputs": [],
   "source": [
    "#Exercise 1- create a list using list comprehension that stores the values from 0 to 20\n",
    "\n",
    "my_list = [i for i in range(20)]"
   ]
  },
  {
   "cell_type": "code",
   "execution_count": null,
   "metadata": {},
   "outputs": [],
   "source": [
    "#Exercise 2 - modify this code to make it a list comprehension\n",
    "\n",
    "#write your list comprehension here\n",
    "my_list = []\n",
    "for i in range(1, 10, 2):\n",
    "    my_list.append(i)\n",
    "\n",
    "# output\n",
    "my_list"
   ]
  },
  {
   "cell_type": "code",
   "execution_count": null,
   "metadata": {},
   "outputs": [],
   "source": [
    "#Exercise 3 - create a list comprehension that contains the square of numbers from 1 to 7\n",
    "my_list = [i*i for i in range(5)]\n",
    "my_list"
   ]
  },
  {
   "cell_type": "code",
   "execution_count": null,
   "metadata": {},
   "outputs": [],
   "source": [
    "#Exercise 4 - create a list comprehension that contains the square of numbers from 1 to 7 \n",
    "# starting from the largest to smallest number\n",
    "\n",
    "# write you list comprehension here\n",
    "my_list = [i*i for i in range(7,0,-1)]\n",
    "\n",
    "# output\n",
    "my_list"
   ]
  },
  {
   "cell_type": "code",
   "execution_count": null,
   "metadata": {},
   "outputs": [],
   "source": [
    "#Exercise 5 Bonus question! - create a list comprehension that contains the square of the iterator\n",
    "# if the iterator is smaller than 4 else it would contain the cube of the iterator\n",
    "# for values from 1 to 7\n",
    "\n",
    "#write you list comprehension here\n",
    "my_list = [i ** 2 if i < 4 else i ** 3 for i in range(7)]\n",
    "\n",
    "#output\n",
    "my_list"
   ]
  },
  {
   "cell_type": "markdown",
   "metadata": {},
   "source": [
    "You don't necessarily have to store the created list in a function."
   ]
  },
  {
   "cell_type": "code",
   "execution_count": null,
   "metadata": {
    "scrolled": true
   },
   "outputs": [],
   "source": [
    "[print(\"SwiCS is best society\") for i in range (5)]"
   ]
  },
  {
   "cell_type": "markdown",
   "metadata": {},
   "source": [
    "## **Section 2: Functions**\n",
    "\n",
    "functions allow you to reuse code you've written. You put the code you wish to reuse in a function declaration, then by calling that function's name, the code you've stored in the function will run.\n",
    "\n",
    "Functions in python are written\n",
    "\n",
    "def <name of the function>([optional parameters]):\n",
    "    <content of the function>\n",
    "    [Optional return statement]\n"
   ]
  },
  {
   "cell_type": "code",
   "execution_count": null,
   "metadata": {},
   "outputs": [],
   "source": [
    "#Declaring the function!\n",
    "def announce_best_society():\n",
    "   print(\"SwiCS is best society\")\n",
    "\n",
    "#calling the function.\n",
    "announce_best_society()\n",
    "\n",
    "# Exercise 2.1 Try creating a function that repeats a statment 9 times!\n",
    "def repeat_nine_times():\n",
    "    #answer here\n",
    "   [print(\"We are number 1\") for i in range(9)]\n"
   ]
  },
  {
   "cell_type": "code",
   "execution_count": null,
   "metadata": {},
   "outputs": [],
   "source": [
    "#Exercise 2.2 Modify your function so that it takes an input that will be\n",
    "# used to determine how many times it should repeat the statement\n",
    "\n",
    "#answer\n",
    "def repeat(times):\n",
    "    [print(\"Coding is awesome\") for i in range(times)]\n",
    "\n",
    "# Then call the function with 7 as its argument\n",
    "\n",
    "#answer\n",
    "repeat(7)"
   ]
  },
  {
   "cell_type": "code",
   "execution_count": null,
   "metadata": {},
   "outputs": [],
   "source": [
    "#Exercise 2.3 modify your function so that it takes another input for the text to be printed\n",
    "\n",
    "#answer\n",
    "def repeat(phrase, times):\n",
    "    [print(phrase) for i in range(times)]\n",
    "\n",
    "# Call the function with the phrase you want it to say for 5 times\n",
    "\n",
    "#answer\n",
    "repeat(\"We're ready to take on harder challenges!\", 5)"
   ]
  },
  {
   "cell_type": "code",
   "execution_count": null,
   "metadata": {},
   "outputs": [],
   "source": [
    "# Exercise 2.4 create a function that takes three values, m, x, and c.\n",
    "# this function will return m*x + c, name the function deduce_y(m, x, c)\n",
    "\n",
    "# answer\n",
    "def deduce_y(m, x, c):\n",
    "    return m * x + c\n",
    "\n",
    "#run the function with the values 3, 1.5, 2\n",
    "deduce_y(3, 1.5, 2)"
   ]
  },
  {
   "cell_type": "markdown",
   "metadata": {},
   "source": [
    "You can combine your variables and sentences to output different things. As you change your variable, the output will change! See the example below"
   ]
  },
  {
   "cell_type": "code",
   "execution_count": null,
   "metadata": {},
   "outputs": [],
   "source": [
    "#Example 1- Combining sentences and variables\n",
    "\n",
    "greeting=\"Hello!\"\n",
    "amount=12\n",
    "print(greeting,\"The amount is\",amount)\n",
    "\n",
    "#Try changing the variables and watch as the sentence you output changes!"
   ]
  },
  {
   "cell_type": "code",
   "execution_count": null,
   "metadata": {},
   "outputs": [],
   "source": [
    "#CHALLENGE: Try to create a variable for your name and output \"Hello my name is [your name]\". Put your code in here"
   ]
  },
  {
   "cell_type": "markdown",
   "metadata": {},
   "source": [
    "## **Section 3: Built in functions**\n",
    "\n",
    "Data types are defined by the values they can take. There are four main data types that you will need to know as you begin to code in python. These are:\n",
    "\n",
    "* Zip\n",
    "* Sum\n",
    "* Count\n",
    "* Len\n",
    "* Map\n",
    "* Filter\n",
    "* Abs\n",
    "* Min\n",
    "* Max\n",
    "* Sorted\n",
    "\n",
    "In this section, we will go into each of them in detail. If you are interested in all the data types available in python, please check out the [link here!](https://www.w3schools.com/python/python_datatypes.asp) "
   ]
  },
  {
   "cell_type": "markdown",
   "metadata": {},
   "source": [
    "### Data Types: Integers\n",
    "\n",
    "Integers (ints) are whole numbers that can be either positive or negative and can be an unlimited length!"
   ]
  },
  {
   "cell_type": "code",
   "execution_count": 9,
   "metadata": {},
   "outputs": [
    {
     "name": "stdout",
     "output_type": "stream",
     "text": [
      "1584370\n"
     ]
    }
   ],
   "source": [
    "#Example code\n",
    "\n",
    "integer_one=5\n",
    "\n",
    "integer_two=316874\n",
    "#You can peform arithmetic calculations on integers and store your results in variables, for example\n",
    "\n",
    "integer_three=integer_one+integer_two\n",
    "\n",
    "#You can also print your calculations. Try running this section and see what you get!\n",
    "print(integer_one*integer_two)\n",
    "\n",
    "#Try creating your own variables with the data types of integers below and print them!"
   ]
  },
  {
   "cell_type": "markdown",
   "metadata": {},
   "source": [
    "### Data Types: Floats\n",
    "Floats (Short for floating point numbers) are decimal values or fractional numbers."
   ]
  },
  {
   "cell_type": "code",
   "execution_count": 10,
   "metadata": {},
   "outputs": [
    {
     "name": "stdout",
     "output_type": "stream",
     "text": [
      "0.5421270718232044\n"
     ]
    }
   ],
   "source": [
    "#Example code\n",
    "float_one=3.14\n",
    "\n",
    "float_two=5.792\n",
    "\n",
    "#You can also perform arithmatic calculations with floats and print them, like how we did with integers. Try running this section\n",
    "float_three=float_one/float_two\n",
    "print(float_three)\n",
    "\n",
    "#Try doing some addition, multiplication and subtraction with floats here! I've given you a hint to help you \n",
    "#HINT: for multiplication, we used the * symbol before, maybe putting two floats either side of that will multiply them."
   ]
  },
  {
   "cell_type": "markdown",
   "metadata": {},
   "source": [
    "### Data Types: Strings\n",
    "Strings are just a combination of characters in speech marks (\"\"). I've been referring to them as sentences up until this point, as at this basic level, that's what strings usually are. \n"
   ]
  },
  {
   "cell_type": "code",
   "execution_count": 11,
   "metadata": {
    "scrolled": true
   },
   "outputs": [
    {
     "name": "stdout",
     "output_type": "stream",
     "text": [
      "Aaaaaaaaaaaaaaaaaaaaaaaaah!!!\n",
      "It's a ghost!\n"
     ]
    }
   ],
   "source": [
    "#Example code\n",
    "\n",
    "short_string=\"a\"\n",
    "\n",
    "long_string=\"Aaaaaaaaaaaaaaaaaaaaaaaaah!!!\"\n",
    "\n",
    "#As we saw in sections 1 and 2, you can print and store strings in variables\n",
    "print(long_string)\n",
    "print(\"It's a ghost!\")\n",
    "\n"
   ]
  },
  {
   "cell_type": "markdown",
   "metadata": {},
   "source": [
    "## **Section 4: Dictionaries Compehension**\n",
    "\n",
    "Data types are defined by the values they can take. There are four main data types that you will need to know as you begin to code in python. These are:\n",
    "\n",
    "* Integers\n",
    "* Floats\n",
    "* Strings\n",
    "* Booleans\n",
    "\n",
    "In this section, we will go into each of them in detail. If you are interested in all the data types available in python, please check out the [link here!](https://www.w3schools.com/python/python_datatypes.asp) "
   ]
  }
 ],
 "metadata": {
  "celltoolbar": "Tags",
  "interpreter": {
   "hash": "97464c9af034698eb0cbaa466d70412023e0ec93617a07d4eb7c3e7c326a0d08"
  },
  "kernelspec": {
   "display_name": "Python 3 (ipykernel)",
   "language": "python",
   "name": "python3"
  },
  "language_info": {
   "codemirror_mode": {
    "name": "ipython",
    "version": 3
   },
   "file_extension": ".py",
   "mimetype": "text/x-python",
   "name": "python",
   "nbconvert_exporter": "python",
   "pygments_lexer": "ipython3",
   "version": "3.9.12"
  }
 },
 "nbformat": 4,
 "nbformat_minor": 2
}
