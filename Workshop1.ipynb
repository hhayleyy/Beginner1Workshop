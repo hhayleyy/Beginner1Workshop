{
 "cells": [
  {
   "cell_type": "markdown",
   "metadata": {},
   "source": [
    "# **SWiCS x WiE Python Workshop 1**\n",
    "---\n",
    "###### Written by Hayley Young 2023"
   ]
  },
  {
   "cell_type": "markdown",
   "metadata": {},
   "source": [
    "## **Before you start...**\n",
    "\n",
    "If you have never worked with python, we recommend attending our python workshop sessions or watching the recordings before you attempt this or any other notebook.\n",
    "\n",
    "All recordings are available at [this link](https://drive.google.com/drive/folders/1bmIe38jksFXj5-QlIDS3_16pOZw9e9ka?usp=sharing)."
   ]
  },
  {
   "cell_type": "markdown",
   "metadata": {},
   "source": [
    "## **Introduction to Notebooks**\n",
    "\n",
    "Notebooks are an easy way to run small snippets of code in a learning environment. Anything you learn here, you can put into your own coding projects!\n",
    "\n",
    "Below is an example of some code. You may not understand it yet, but it demonstrates how to run code in these notebooks"
   ]
  },
  {
   "cell_type": "code",
   "execution_count": null,
   "metadata": {},
   "outputs": [],
   "source": [
    "#Example comment! Comments can be used to add notes to your code to explain what things do what. I will be using comments to explain sections of code to you\n",
    "\n",
    "#This is some example code. CLick the little play button to run this code. Ask a demonstrator if you're unsure!\n",
    "for i in range(5):\n",
    "    print(\"This code is outputting to the console\")\n",
    "\n",
    "# If you've managed to run this code, you should see the sentence \"This code is outputting to the console\" outputted 5 times below!\n"
   ]
  },
  {
   "cell_type": "markdown",
   "metadata": {},
   "source": [
    "All notebooks provided in these sessions will have explanations followed by examples and questions to test your understanding. Feel free to try out as many questions as you like and even put some of the code you learn into your own python files!"
   ]
  },
  {
   "attachments": {},
   "cell_type": "markdown",
   "metadata": {},
   "source": [
    "---"
   ]
  },
  {
   "cell_type": "markdown",
   "metadata": {},
   "source": [
    "## **Section one: Printing**\n",
    "\n",
    "We're going to start with the basics of printing. Printing is a common way of producing an output to a console in programming. Using the keyword **print** you can write things to your console (the output). Everything that you want to write must be put in brackets and if it is some words you want to write, they must be put in speech marks (we'll cover why this is in a later section!) .\n",
    "\n",
    "Have a go at writing your own print statement below the example."
   ]
  },
  {
   "cell_type": "code",
   "execution_count": 4,
   "metadata": {},
   "outputs": [
    {
     "name": "stdout",
     "output_type": "stream",
     "text": [
      "Hello world!\n"
     ]
    }
   ],
   "source": [
    "#Example code!\n",
    "\n",
    "print(\"Hello world!\")"
   ]
  },
  {
   "attachments": {},
   "cell_type": "markdown",
   "metadata": {},
   "source": [
    "### Question\n",
    "Can you print your own sentence below?"
   ]
  },
  {
   "cell_type": "code",
   "execution_count": null,
   "metadata": {},
   "outputs": [],
   "source": [
    "#Put your code here!\n",
    "\n",
    "#If you do this correctly, you should be able to run the code and see your sentence below! HINT: If you're struggling take a look at the example above!"
   ]
  },
  {
   "attachments": {},
   "cell_type": "markdown",
   "metadata": {},
   "source": [
    "You can also print numbers like so!"
   ]
  },
  {
   "cell_type": "code",
   "execution_count": null,
   "metadata": {},
   "outputs": [],
   "source": [
    "#Example 2- Printing numbers\n",
    "\n",
    "print(1)\n",
    "print(2)\n",
    "print(3)\n",
    "\n",
    "\n"
   ]
  },
  {
   "attachments": {},
   "cell_type": "markdown",
   "metadata": {},
   "source": [
    "### Question\n",
    "Try printing the letters \"A\", \"B\" and \"C\" to the console. As a bonus challenge, try to also print words beginning with those letters to the console"
   ]
  },
  {
   "cell_type": "markdown",
   "metadata": {},
   "source": [
    "You may be wondering why we don't need to put numbers in speech marks. This is because they are a different **data type** to sentences. We'll cover this in another section!"
   ]
  },
  {
   "attachments": {},
   "cell_type": "markdown",
   "metadata": {},
   "source": [
    "---"
   ]
  },
  {
   "cell_type": "markdown",
   "metadata": {},
   "source": [
    "## **Section 2: Variables**\n",
    "\n",
    "Variables are another key concept in programming. They are used to store certain information that you will need during the runtime of your program."
   ]
  },
  {
   "attachments": {},
   "cell_type": "markdown",
   "metadata": {},
   "source": [
    "### Examples"
   ]
  },
  {
   "cell_type": "code",
   "execution_count": null,
   "metadata": {},
   "outputs": [],
   "source": [
    "#Example code!\n",
    "\n",
    "variable =\"I am a variable :)\"\n",
    "\n",
    "#Using what we learnt about printing we can print our variable to the console\n",
    "print(variable)"
   ]
  },
  {
   "cell_type": "code",
   "execution_count": null,
   "metadata": {},
   "outputs": [],
   "source": [
    "#Example 2- Variables can be of any data type! So you can have a variable of a number as seen here\n",
    "\n",
    "bakers_dozen = 13\n",
    "\n",
    "print(bakers_dozen)"
   ]
  },
  {
   "attachments": {},
   "cell_type": "markdown",
   "metadata": {},
   "source": [
    "### Question\n",
    "\n",
    "Try to declare a variable for your age and print it!"
   ]
  },
  {
   "cell_type": "code",
   "execution_count": 8,
   "metadata": {},
   "outputs": [],
   "source": [
    "#Put your code here!\n",
    "\n",
    "#If you've managed to do this correctly, you should see your age variable outputted below. If you're struggling, try to follow the pattern in the example code. "
   ]
  },
  {
   "cell_type": "markdown",
   "metadata": {},
   "source": [
    "You can combine your variables and sentences to output different things. As you change your variable, the output will change! See the example below"
   ]
  },
  {
   "cell_type": "code",
   "execution_count": 9,
   "metadata": {},
   "outputs": [
    {
     "name": "stdout",
     "output_type": "stream",
     "text": [
      "Hello! The amount is 12\n"
     ]
    }
   ],
   "source": [
    "#Example 3- Combining sentences and variables\n",
    "\n",
    "greeting=\"Hello!\"\n",
    "amount=12\n",
    "print(greeting,\"The amount is\",amount)\n",
    "\n",
    "#Try changing the variables and watch as the sentence you output changes!"
   ]
  },
  {
   "attachments": {},
   "cell_type": "markdown",
   "metadata": {},
   "source": [
    "### Question\n",
    "Can you declare a variable of your name and output the sentence \"Hello my name is [your name]\"?"
   ]
  },
  {
   "cell_type": "code",
   "execution_count": 10,
   "metadata": {},
   "outputs": [],
   "source": [
    "#Put your code here"
   ]
  },
  {
   "attachments": {},
   "cell_type": "markdown",
   "metadata": {},
   "source": [
    "---"
   ]
  },
  {
   "cell_type": "markdown",
   "metadata": {},
   "source": [
    "## **Section 3: Data Types**\n",
    "\n",
    "Data types are defined by the values they can take. There are four main data types that you will need to know as you begin to code in python. These are:\n",
    "\n",
    "* Integers\n",
    "* Floats\n",
    "* Strings\n",
    "* Booleans\n",
    "\n",
    "In this section, we will go into each of them in detail. If you are interested in all the data types available in python, please check out the [link here!](https://www.w3schools.com/python/python_datatypes.asp) "
   ]
  },
  {
   "cell_type": "markdown",
   "metadata": {},
   "source": [
    "### Data Types: Integers\n",
    "\n",
    "Integers (ints) are whole numbers that can be either positive or negative and can be an unlimited length!"
   ]
  },
  {
   "cell_type": "code",
   "execution_count": 11,
   "metadata": {},
   "outputs": [
    {
     "name": "stdout",
     "output_type": "stream",
     "text": [
      "1584370\n"
     ]
    }
   ],
   "source": [
    "#Example code\n",
    "\n",
    "integer_one=5\n",
    "\n",
    "integer_two=316874\n",
    "#You can peform arithmetic calculations on integers and store your results in variables, for example\n",
    "\n",
    "integer_three=integer_one+integer_two\n",
    "\n",
    "#You can also print your calculations. Try running this section and see what you get!\n",
    "print(integer_one*integer_two)\n"
   ]
  },
  {
   "cell_type": "markdown",
   "metadata": {},
   "source": [
    "### Data Types: Floats\n",
    "Floats (Short for floating point numbers) are decimal values or fractional numbers."
   ]
  },
  {
   "cell_type": "code",
   "execution_count": null,
   "metadata": {},
   "outputs": [],
   "source": [
    "#Example code\n",
    "float_one=3.14\n",
    "\n",
    "float_two=5.792\n",
    "\n",
    "#You can also perform arithmatic calculations with floats and print them, like how we did with integers. Try running this section\n",
    "float_three=float_one/float_two\n",
    "print(float_three)\n"
   ]
  },
  {
   "attachments": {},
   "cell_type": "markdown",
   "metadata": {},
   "source": [
    "### Data Types: Strings\n",
    "Strings are just a combination of characters in speech marks (\"\"). I've been referring to them as sentences up until this point, as at this basic level, that's what strings usually are. However, any characters that are in \"\" can be strings, even numbers!\n"
   ]
  },
  {
   "cell_type": "code",
   "execution_count": 5,
   "metadata": {},
   "outputs": [
    {
     "name": "stdout",
     "output_type": "stream",
     "text": [
      "Aaaaaaaaaaaaaaaaaaaaaaaaah!!!\n",
      "It's a ghost!\n"
     ]
    }
   ],
   "source": [
    "#Example code\n",
    "\n",
    "short_string=\"a\"\n",
    "\n",
    "long_string=\"Aaaaaaaaaaaaaaaaaaaaaaaaah!!!\"\n",
    "\n",
    "#As we saw in sections 1 and 2, you can print and store strings in variables\n",
    "print(long_string)\n",
    "print(\"It's a ghost!\")"
   ]
  },
  {
   "attachments": {},
   "cell_type": "markdown",
   "metadata": {},
   "source": [
    "### Data Types: Booleans\n",
    "Booleans have two different values they can be, either **True** or **False**. Do note that these are keywords in python and must be capitalised when you use them"
   ]
  },
  {
   "cell_type": "code",
   "execution_count": 2,
   "metadata": {},
   "outputs": [
    {
     "name": "stdout",
     "output_type": "stream",
     "text": [
      "Do I like mushrooms?  False\n",
      "Do I like cake?  True\n"
     ]
    }
   ],
   "source": [
    "#Example code\n",
    "\n",
    "i_like_cake=True\n",
    "\n",
    "i_like_mushrooms=False\n",
    "\n",
    "#You can print these values like before\n",
    "\n",
    "print(\"Do I like mushrooms? \",i_like_mushrooms)\n",
    "print(\"Do I like cake? \", i_like_cake)"
   ]
  },
  {
   "attachments": {},
   "cell_type": "markdown",
   "metadata": {},
   "source": [
    "### Question\n",
    "Define a float and an integer, multiply them together and print the result"
   ]
  },
  {
   "cell_type": "code",
   "execution_count": null,
   "metadata": {},
   "outputs": [],
   "source": [
    "#Put your code here!"
   ]
  },
  {
   "attachments": {},
   "cell_type": "markdown",
   "metadata": {},
   "source": [
    "### Question\n",
    "Create a string with a true or false question, and define a variable with the answer either True or False. Combine these together and print the result!"
   ]
  },
  {
   "cell_type": "code",
   "execution_count": null,
   "metadata": {},
   "outputs": [],
   "source": [
    "#Put your code here!"
   ]
  },
  {
   "attachments": {},
   "cell_type": "markdown",
   "metadata": {},
   "source": [
    "---"
   ]
  },
  {
   "attachments": {},
   "cell_type": "markdown",
   "metadata": {},
   "source": [
    "## Section 4: Operators and Expressions\n",
    "An expression is formed of two or more sides, with each side being seperated by an operator, which is a special symbol that designates some sort of computational process should be performed (this will make more sense when you see the examples). An expression will always create a new value!\n",
    "\n",
    "There are 2 main types of operators\n",
    "* Arithmetic operators\n",
    "* Comparison operators\n",
    "\n",
    "If you're interested to learn more about expressions, feel free to ask our demonstrators or check out [this website](https://realpython.com/python-operators-expressions/#logical-operators) for all the different expressions you can form with different operators."
   ]
  },
  {
   "attachments": {},
   "cell_type": "markdown",
   "metadata": {},
   "source": [
    "### Operators and Expressions: Arithmetic\n",
    "Arithmetic operators can be used to with float or integer data types to form new float or integers. We've actually been already using arithmetic operators already in this notebook. Here they are and some extras you may have not seen:\n",
    "* Addition ( + )\n",
    "* Subtraction ( - )\n",
    "* Division ( / )\n",
    "* Multiplication ( * )"
   ]
  },
  {
   "cell_type": "code",
   "execution_count": 4,
   "metadata": {},
   "outputs": [
    {
     "data": {
      "text/plain": [
       "7.4"
      ]
     },
     "execution_count": 4,
     "metadata": {},
     "output_type": "execute_result"
    }
   ],
   "source": [
    "#Example code (Note these are all expressions)\n",
    "\n",
    "24 + 29\n",
    "\n",
    "27 * 47\n",
    "\n",
    "10 / 5 + 7 / 20\n",
    "\n",
    "12 / 5 + 7 - 2\n",
    "\n",
    "#If you run this code, the final value will be the only one printed. Its handy to know that with quick calculations\n",
    "#you can type them into your terminal and the answer will be written back to you "
   ]
  },
  {
   "attachments": {},
   "cell_type": "markdown",
   "metadata": {},
   "source": [
    "### Question\n",
    "Using what you know about arithmetic operators, create an expression that results in the answer 25. This can be using any of the arithmetic operators you've learnt, as many times as you want!"
   ]
  },
  {
   "cell_type": "code",
   "execution_count": null,
   "metadata": {},
   "outputs": [],
   "source": [
    "#Put your code here!"
   ]
  },
  {
   "attachments": {},
   "cell_type": "markdown",
   "metadata": {},
   "source": [
    "### Operators and Expressions: Comparison\n",
    "Comparison Operators can be used to create a **True** or **False** (or boolean!) value in an expression. Here are some examples of the different types of operators:\n",
    "* Equal to ( == )\n",
    "* Not equal to ( != )\n",
    "* Less than ( < )\n",
    "* More than ( > )\n",
    "* Less than or Equal to ( <= )\n",
    "* More than or Equal to ( => )\n"
   ]
  },
  {
   "cell_type": "code",
   "execution_count": 9,
   "metadata": {},
   "outputs": [
    {
     "data": {
      "text/plain": [
       "True"
      ]
     },
     "execution_count": 9,
     "metadata": {},
     "output_type": "execute_result"
    }
   ],
   "source": [
    "#Example code (these are all expressions)\n",
    "\n",
    "\"x\" == \"x\" #Evaluates true\n",
    "\n",
    "\"hello\" != \"hello\" #Evaluates false\n",
    "\n",
    "2 > 5 #Evaluates false\n",
    "\n",
    "3 < 100.45 #Evaluates true\n",
    "\n",
    "# If you run this code, you'll notice only the final evaluation is displayed. It's handy to know that in the terminal, you can also run quick comparisons between values\n",
    "# and get the result"
   ]
  },
  {
   "attachments": {},
   "cell_type": "markdown",
   "metadata": {},
   "source": [
    "### Question\n",
    "Create an expression that evaluates to False. Use any of the comparison operators you've learnt so far!"
   ]
  },
  {
   "cell_type": "code",
   "execution_count": null,
   "metadata": {},
   "outputs": [],
   "source": [
    "# Put your code here"
   ]
  },
  {
   "attachments": {},
   "cell_type": "markdown",
   "metadata": {},
   "source": [
    "### Question \n",
    "Create an expression that evaluates to True. Use any of the comparison operators you've learnt so far!"
   ]
  },
  {
   "cell_type": "code",
   "execution_count": null,
   "metadata": {},
   "outputs": [],
   "source": [
    "#Put your code here"
   ]
  },
  {
   "attachments": {},
   "cell_type": "markdown",
   "metadata": {},
   "source": [
    "---"
   ]
  }
 ],
 "metadata": {
  "kernelspec": {
   "display_name": "Python 3",
   "language": "python",
   "name": "python3"
  },
  "language_info": {
   "codemirror_mode": {
    "name": "ipython",
    "version": 3
   },
   "file_extension": ".py",
   "mimetype": "text/x-python",
   "name": "python",
   "nbconvert_exporter": "python",
   "pygments_lexer": "ipython3",
   "version": "3.11.1"
  },
  "orig_nbformat": 4,
  "vscode": {
   "interpreter": {
    "hash": "65af7e56d90f21aaf7581cdf12dbbdf810473f1d7faa72ea30c187f63053dcba"
   }
  }
 },
 "nbformat": 4,
 "nbformat_minor": 2
}
