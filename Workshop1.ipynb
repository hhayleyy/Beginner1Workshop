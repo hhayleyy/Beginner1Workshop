{
 "cells": [
  {
   "cell_type": "markdown",
   "metadata": {},
   "source": [
    "# **SWiCS x WiE Python Workshop 1**\n",
    "---\n",
    "###### Written by Hayley Young 2023"
   ]
  },
  {
   "cell_type": "markdown",
   "metadata": {},
   "source": [
    "## **Before you start...**\n",
    "\n",
    "If you have never worked with python, we recommend attending our python workshop sessions or watching the recordings before you attempt this or any other notebook.\n",
    "\n",
    "All recordings are available at [this link](https://drive.google.com/drive/folders/1bmIe38jksFXj5-QlIDS3_16pOZw9e9ka?usp=sharing)."
   ]
  },
  {
   "cell_type": "markdown",
   "metadata": {},
   "source": [
    "## **Introduction to Notebooks**\n",
    "\n",
    "Notebooks are an easy way to run small snippets of code in a learning environment. Anything you learn here, you can put into your own coding projects!\n",
    "\n",
    "Below is an example of some code. You may not understand it yet, but it demonstrates how to run code in these notebooks"
   ]
  },
  {
   "cell_type": "code",
   "execution_count": 2,
   "metadata": {},
   "outputs": [
    {
     "name": "stdout",
     "output_type": "stream",
     "text": [
      "This code is outputting to the console\n",
      "This code is outputting to the console\n",
      "This code is outputting to the console\n",
      "This code is outputting to the console\n",
      "This code is outputting to the console\n"
     ]
    }
   ],
   "source": [
    "#Example comment! Comments can be used to add notes to your code to explain what things do what. I will be using comments to explain sections of code to you\n",
    "\n",
    "#This is some example code. CLick the little play button to run this code. Ask a demonstrator if you're unsure!\n",
    "for i in range(5):\n",
    "    print(\"This code is outputting to the console\")\n",
    "\n",
    "# If you've managed to run this code, you should see the sentence \"This code is outputting to the console\" outputted 5 times below!\n"
   ]
  },
  {
   "cell_type": "markdown",
   "metadata": {},
   "source": [
    "All notebooks provided in these sessions will have explanations followed by examples and questions to test your understanding. Feel free to try out as many questions as you like and even put some of the code you learn into your own python files!"
   ]
  },
  {
   "cell_type": "markdown",
   "metadata": {},
   "source": [
    "## **Section one: Printing**\n",
    "\n",
    "We're going to start with the basics of printing. Printing is a common way of producing an output to a console in programming. Using the keyword **print** you can write things to your console (the output). Everything that you want to write must be put in brackets and if it is some words you want to write, they must be put in speech marks (we'll cover why this is in a later section!) .\n",
    "\n",
    "Have a go at writing your own print statement below the example."
   ]
  },
  {
   "cell_type": "code",
   "execution_count": 1,
   "metadata": {},
   "outputs": [
    {
     "name": "stdout",
     "output_type": "stream",
     "text": [
      "Hello world!\n"
     ]
    }
   ],
   "source": [
    "#Example code!\n",
    "\n",
    "print(\"Hello world!\")\n",
    "\n",
    "#Type your own print statement here\n",
    "\n",
    "\n",
    "\n",
    "#If you do this correctly, you should be able to run the code and see your sentence below \"Hello world!\""
   ]
  },
  {
   "cell_type": "code",
   "execution_count": 10,
   "metadata": {},
   "outputs": [
    {
     "name": "stdout",
     "output_type": "stream",
     "text": [
      "1\n",
      "2\n",
      "3\n"
     ]
    }
   ],
   "source": [
    "#Example 2- Printing numbers. You can also print numbers like so:\n",
    "\n",
    "print(1)\n",
    "print(2)\n",
    "print(3)\n",
    "\n",
    "#Try printing out 4 and 5 below. \n",
    "\n",
    "\n",
    "# If you do this correctly, you'll see all the numbers in a vertical line\n"
   ]
  },
  {
   "cell_type": "markdown",
   "metadata": {},
   "source": [
    "You may be wondering why we don't need to put numbers in speech marks. This is because they are a different **data type** to sentences. We'll cover this in another section!"
   ]
  },
  {
   "cell_type": "markdown",
   "metadata": {},
   "source": [
    "## **Section 2: Variables**\n",
    "\n",
    "Variables are another key concept in programming. They are used to store certain information that you will need during the runtime of your program."
   ]
  },
  {
   "cell_type": "code",
   "execution_count": 12,
   "metadata": {},
   "outputs": [
    {
     "name": "stdout",
     "output_type": "stream",
     "text": [
      "I am a variable :)\n"
     ]
    }
   ],
   "source": [
    "#Example code!\n",
    "\n",
    "variable =\"I am a variable :)\"\n",
    "\n",
    "#Using what we learnt about printing we can print our variable to the console\n",
    "print(variable)"
   ]
  },
  {
   "cell_type": "code",
   "execution_count": 13,
   "metadata": {},
   "outputs": [
    {
     "name": "stdout",
     "output_type": "stream",
     "text": [
      "13\n"
     ]
    }
   ],
   "source": [
    "#Example 2- Variables can be of any data type! So you can have a variable of a number as seen here\n",
    "\n",
    "bakers_dozen = 13\n",
    "\n",
    "print(bakers_dozen)"
   ]
  },
  {
   "cell_type": "code",
   "execution_count": null,
   "metadata": {},
   "outputs": [],
   "source": [
    "#Try declaring a variable below\n",
    "\n",
    "\n",
    "#Try printing your variable below\n",
    "\n",
    "\n",
    "#If you've managed to do this correctly, you should see your variable outputted below. If you're struggling, try to follow the pattern in the example code. "
   ]
  },
  {
   "cell_type": "markdown",
   "metadata": {},
   "source": [
    "You can combine your variables and sentences to output different things. As you change your variable, the output will change! See the example below"
   ]
  },
  {
   "cell_type": "code",
   "execution_count": 19,
   "metadata": {},
   "outputs": [
    {
     "name": "stdout",
     "output_type": "stream",
     "text": [
      "Hello! The amount is 12\n"
     ]
    }
   ],
   "source": [
    "#Example 3- Combining sentences and variables\n",
    "\n",
    "greeting=\"Hello!\"\n",
    "amount=12\n",
    "print(greeting,\"The amount is\",amount)\n",
    "\n",
    "#Try changing the variables and watch as the sentence you output changes!"
   ]
  },
  {
   "cell_type": "code",
   "execution_count": null,
   "metadata": {},
   "outputs": [],
   "source": [
    "#CHALLENGE: Try to create a variable for your name and output \"Hello my name is [your name]\". Put your code in here"
   ]
  },
  {
   "cell_type": "markdown",
   "metadata": {},
   "source": [
    "## **Section 3: Data Types**\n",
    "\n",
    "Data types are defined by the values they can take. There are four main data types that you will need to know as you begin to code in python. These are:\n",
    "\n",
    "* Integers\n",
    "* Floats\n",
    "* Strings\n",
    "* Booleans\n",
    "\n",
    "In this section, we will go into each of them in detail. If you are interested in all the data types available in python, please check out the [link here!](https://www.w3schools.com/python/python_datatypes.asp) "
   ]
  },
  {
   "cell_type": "markdown",
   "metadata": {},
   "source": [
    "### Data Types: Integers\n",
    "\n",
    "Integers (ints) are whole numbers that can be either positive or negative and can be an unlimited length!"
   ]
  },
  {
   "cell_type": "code",
   "execution_count": 21,
   "metadata": {},
   "outputs": [
    {
     "name": "stdout",
     "output_type": "stream",
     "text": [
      "1584370\n"
     ]
    }
   ],
   "source": [
    "#Example code\n",
    "\n",
    "integer_one=5\n",
    "\n",
    "integer_two=316874\n",
    "#You can peform arithmetic calculations on integers and store your results in variables, for example\n",
    "\n",
    "integer_three=integer_one+integer_two\n",
    "\n",
    "#You can also print your calculations. Try running this section and see what you get!\n",
    "print(integer_one*integer_two)\n",
    "\n",
    "#Try creating your own variables with the data types of integers below and print them!"
   ]
  },
  {
   "cell_type": "markdown",
   "metadata": {},
   "source": [
    "### Data Types: Floats\n",
    "Floats (Short for floating point numbers) are decimal values or fractional numbers."
   ]
  },
  {
   "cell_type": "code",
   "execution_count": 23,
   "metadata": {},
   "outputs": [
    {
     "name": "stdout",
     "output_type": "stream",
     "text": [
      "0.5421270718232044\n"
     ]
    }
   ],
   "source": [
    "#Example code\n",
    "float_one=3.14\n",
    "\n",
    "float_two=5.792\n",
    "\n",
    "#You can also perform arithmatic calculations with floats and print them, like how we did with integers. Try running this section\n",
    "float_three=float_one/float_two\n",
    "print(float_three)\n",
    "\n",
    "#Try doing some addition, multiplication and subtraction with floats here! I've given you a hint to help you \n",
    "#HINT: for multiplication, we used the * symbol before, maybe putting two floats either side of that will multiply them."
   ]
  },
  {
   "cell_type": "markdown",
   "metadata": {},
   "source": [
    "### Data Types: Strings\n",
    "Strings are just a combination of characters in speech marks (\"\"). I've been referring to them as sentences up until this point, as at this basic level, that's what strings usually are. \n"
   ]
  },
  {
   "cell_type": "code",
   "execution_count": 25,
   "metadata": {},
   "outputs": [
    {
     "name": "stdout",
     "output_type": "stream",
     "text": [
      "Aaaaaaaaaaaaaaaaaaaaaaaaah!!!\n",
      "It's a ghost!\n"
     ]
    }
   ],
   "source": [
    "#Example code\n",
    "\n",
    "short_string=\"a\"\n",
    "\n",
    "long_string=\"Aaaaaaaaaaaaaaaaaaaaaaaaah!!!\"\n",
    "\n",
    "#As we saw in sections 1 and 2, you can print and store strings in variables\n",
    "print(long_string)\n",
    "print(\"It's a ghost!\")\n",
    "\n"
   ]
  }
 ],
 "metadata": {
  "interpreter": {
   "hash": "97464c9af034698eb0cbaa466d70412023e0ec93617a07d4eb7c3e7c326a0d08"
  },
  "kernelspec": {
   "display_name": "Python 3.9.10 64-bit",
   "language": "python",
   "name": "python3"
  },
  "language_info": {
   "codemirror_mode": {
    "name": "ipython",
    "version": 3
   },
   "file_extension": ".py",
   "mimetype": "text/x-python",
   "name": "python",
   "nbconvert_exporter": "python",
   "pygments_lexer": "ipython3",
   "version": "3.9.10"
  },
  "orig_nbformat": 4
 },
 "nbformat": 4,
 "nbformat_minor": 2
}
